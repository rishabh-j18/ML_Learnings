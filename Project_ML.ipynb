{
  "nbformat": 4,
  "nbformat_minor": 0,
  "metadata": {
    "colab": {
      "provenance": [],
      "authorship_tag": "ABX9TyOmA5/Z3HKTrxwwHtbjKH27"
    },
    "kernelspec": {
      "name": "python3",
      "display_name": "Python 3"
    },
    "language_info": {
      "name": "python"
    }
  },
  "cells": [
    {
      "cell_type": "code",
      "execution_count": null,
      "metadata": {
        "colab": {
          "base_uri": "https://localhost:8080/",
          "height": 951
        },
        "id": "Hsac-EJSsqCr",
        "outputId": "35422a46-5203-4c1f-af0c-a7345f7226bf"
      },
      "outputs": [
        {
          "output_type": "stream",
          "name": "stdout",
          "text": [
            "<class 'pandas.core.frame.DataFrame'>\n",
            "RangeIndex: 1000 entries, 0 to 999\n",
            "Data columns (total 16 columns):\n",
            " #   Column                  Non-Null Count  Dtype\n",
            "---  ------                  --------------  -----\n",
            " 0   CHK_ACCT                1000 non-null   int64\n",
            " 1   Duration                1000 non-null   int64\n",
            " 2   History                 1000 non-null   int64\n",
            " 3   Purpose of credit       1000 non-null   int64\n",
            " 4   Credit Amount           1000 non-null   int64\n",
            " 5   Balance in Savings A/C  1000 non-null   int64\n",
            " 6   Employment              1000 non-null   int64\n",
            " 7   Install_rate            1000 non-null   int64\n",
            " 8   Marital status          1000 non-null   int64\n",
            " 9   Real Estate             1000 non-null   int64\n",
            " 10  Age                     1000 non-null   int64\n",
            " 11  Other installment       1000 non-null   int64\n",
            " 12  Num_Credits             1000 non-null   int64\n",
            " 13  Job                     1000 non-null   int64\n",
            " 14  Phone                   1000 non-null   int64\n",
            " 15  Foreign                 1000 non-null   int64\n",
            "dtypes: int64(16)\n",
            "memory usage: 125.1 KB\n"
          ]
        },
        {
          "output_type": "stream",
          "name": "stderr",
          "text": [
            "/usr/local/lib/python3.10/dist-packages/sklearn/neural_network/_multilayer_perceptron.py:686: ConvergenceWarning: Stochastic Optimizer: Maximum iterations (100) reached and the optimization hasn't converged yet.\n",
            "  warnings.warn(\n"
          ]
        },
        {
          "output_type": "stream",
          "name": "stdout",
          "text": [
            "Confusion Matrix:\n",
            " [[ 28  31]\n",
            " [  8 133]]\n",
            "Accuracy: 0.805\n",
            "F1 Score: 0.7887471958584987\n"
          ]
        },
        {
          "output_type": "display_data",
          "data": {
            "text/plain": [
              "<Figure size 600x400 with 2 Axes>"
            ],
            "image/png": "[encoded data removed]"
          },
          "metadata": {}
        }
      ],
      "source": [
        "import pandas as pd\n",
        "import matplotlib.pyplot as plt\n",
        "from sklearn.preprocessing import LabelEncoder, StandardScaler\n",
        "from sklearn.model_selection import train_test_split\n",
        "from sklearn.neural_network import MLPClassifier\n",
        "from sklearn.metrics import confusion_matrix, accuracy_score, f1_score\n",
        "import joblib\n",
        "\n",
        "# Load the dataset\n",
        "credit_card_data = pd.read_excel('credit_rating.xls', sheet_name='Raw_Data')\n",
        "\n",
        "# Encode categorical variables\n",
        "lb_encoder = LabelEncoder()\n",
        "categorical_cols = credit_card_data.select_dtypes(include=['object']).columns\n",
        "for col in categorical_cols:\n",
        "    credit_card_data[col] = lb_encoder.fit_transform(credit_card_data[col])\n",
        "\n",
        "# Necessary columns based on correlation\n",
        "necessary_columns = []\n",
        "matrix = credit_card_data.corr().to_dict()\n",
        "for i, j in matrix.items():\n",
        "    if i == 'Credit classification':\n",
        "        for j, k in matrix[i].items():\n",
        "            if abs(k) > 0.03:\n",
        "                necessary_columns.append(j)\n",
        "necessary_columns.remove('Credit classification')\n",
        "\n",
        "credit_card_data[necessary_columns].info()\n",
        "\n",
        "# Extract features and target variable\n",
        "features = credit_card_data[necessary_columns]\n",
        "target = credit_card_data['Credit classification']\n",
        "\n",
        "# Split data into training and testing sets\n",
        "X_train, X_test, y_train, y_test = train_test_split(features, target, test_size=0.2, random_state=42)\n",
        "\n",
        "# Scale the data\n",
        "scaler = StandardScaler()\n",
        "X_train = scaler.fit_transform(X_train)\n",
        "X_test = scaler.transform(X_test)\n",
        "\n",
        "# Create an MLP classifier\n",
        "classifier = MLPClassifier(hidden_layer_sizes=(125,), activation='relu', solver='adam',\n",
        "                            batch_size=60, max_iter=100)\n",
        "\n",
        "classifier.fit(X_train, y_train)\n",
        "\n",
        "# Make predictions on test data\n",
        "y_pred = classifier.predict(X_test)\n",
        "\n",
        "# Evaluate model performance\n",
        "conf_matrix = confusion_matrix(y_test, y_pred)\n",
        "accuracy = accuracy_score(y_test, y_pred)\n",
        "f1 = f1_score(y_test, y_pred, average='weighted')\n",
        "\n",
        "print(\"Confusion Matrix:\\n\", conf_matrix)\n",
        "print(\"Accuracy:\", accuracy)\n",
        "print(\"F1 Score:\", f1)\n",
        "\n",
        "# Plot the confusion matrix\n",
        "plt.figure(figsize=(6, 4))\n",
        "plt.imshow(conf_matrix, cmap='Blues', interpolation='nearest')\n",
        "plt.title(\"Confusion Matrix\")\n",
        "plt.colorbar()\n",
        "plt.xticks([0, 1], ['Good', 'Bad'])\n",
        "plt.yticks([0, 1], ['Good', 'Bad'])\n",
        "plt.xlabel(\"Predicted Label\")\n",
        "plt.ylabel(\"True Label\")\n",
        "plt.show()\n"
      ]
    },
    {
      "cell_type": "code",
      "source": [
        "credit_card_data['Credit classification']"
      ],
      "metadata": {
        "id": "fku-JvkGsvgz",
        "colab": {
          "base_uri": "https://localhost:8080/"
        },
        "outputId": "c15e14c8-6248-4f9f-cb5b-6c5770cf7eda"
      },
      "execution_count": null,
      "outputs": [
        {
          "output_type": "execute_result",
          "data": {
            "text/plain": [
              "0      1\n",
              "1      0\n",
              "2      1\n",
              "3      1\n",
              "4      0\n",
              "      ..\n",
              "995    1\n",
              "996    1\n",
              "997    1\n",
              "998    0\n",
              "999    1\n",
              "Name: Credit classification, Length: 1000, dtype: int64"
            ]
          },
          "metadata": {},
          "execution_count": 5
        }
      ]
    },
    {
      "cell_type": "code",
      "source": [
        "x = classifier.predict([[1, 40, 4, 9, 1653, 1, 3, 1, 2, 3, 20, 1, 0, 3, 1, 1]])"
      ],
      "metadata": {
        "id": "uqCVpQojILFN"
      },
      "execution_count": null,
      "outputs": []
    },
    {
      "cell_type": "code",
      "source": [
        "print(x)"
      ],
      "metadata": {
        "colab": {
          "base_uri": "https://localhost:8080/"
        },
        "id": "wonWH40Kx8--",
        "outputId": "b67ef6b5-c876-441c-b65b-ce9236ffce18"
      },
      "execution_count": null,
      "outputs": [
        {
          "output_type": "stream",
          "name": "stdout",
          "text": [
            "[0]\n"
          ]
        }
      ]
    },
    {
      "cell_type": "code",
      "source": [
        "#importing panda, Flask and other required libraries\n",
        "import numpy as np\n",
        "from flask import Flask, request,render_template\n",
        "#pickle to load the model\n",
        "import pickle\n",
        "\n",
        "app=Flask(__name__)\n",
        "\n",
        "classifier=pickle.load(open(\"./model/model.pkl\",'rb'))\n",
        "\n",
        "#routing to index.html\n",
        "@app.route('/')\n",
        "def home():\n",
        "    return render_template('index.html')\n",
        "\n",
        "#on submit the form data will be sent to /predict route with method POST\n",
        "@app.route('/predict',methods=['POST'])\n",
        "def predict():\n",
        "    #Form values will need to first covnvert into float value from string\n",
        "    form_features=[float(x) for x in request.form.values()]\n",
        "    features=[np.array(form_features)]\n",
        "    prediction=classifier.predict(features)\n",
        "\n",
        "    #predicted as 0 or 1 i.e. Bad or Good respectively\n",
        "    output=int(prediction[0])\n",
        "    result=\"\"\n",
        "    if output==1:\n",
        "        result=\"Good\"\n",
        "    else:\n",
        "        result=\"Bad\"\n",
        "\n",
        "    #routing the result on 'result.html'\n",
        "    return render_template('result.html',prediction_text='{}'.format(result))\n",
        "\n",
        "\n",
        "if __name__==\"__main__\":\n",
        "    app.run"
      ],
      "metadata": {
        "id": "DgfxpC-azEwk"
      },
      "execution_count": null,
      "outputs": []
    }
  ]
}